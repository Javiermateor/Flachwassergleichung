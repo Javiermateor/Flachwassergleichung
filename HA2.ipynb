{
 "cells": [
  {
   "cell_type": "code",
   "execution_count": 2,
   "metadata": {},
   "outputs": [],
   "source": [
    "import numpy as np\n",
    "import matplotlib.pyplot as plt\n",
    "import pandas as pd"
   ]
  },
  {
   "cell_type": "code",
   "execution_count": 18,
   "metadata": {},
   "outputs": [],
   "source": [
    "def Anfangsbedigungen(Nx,CFL,verbose=True):\n",
    "    xmax = 10 \n",
    "    xmin = 0\n",
    "    dx = (xmax-xmin)/Nx \n",
    "    x = np.linspace(xmin, xmax, Nx) \n",
    "    dt = CFL*dx                     # Zeitschrittweite\n",
    "    t_ende = 5                      # Endzeit\n",
    "    Nt = int(t_ende/dt)             # Anzahl der Zeitschritte\n",
    "    \n",
    "    #Upwind-Verfahren\n",
    "    c_positiv = 1*(dt/dx)\n",
    "    c_negativ = 0\n",
    "    \n",
    "    #Lax-Friedrich / Lax-Wendroff-Verfahren\n",
    "    c=dt/dx\n",
    "    \n",
    "    # Glatte Anfangsbedingung\n",
    "    Uo_glatt = np.exp(-2.5*(x-2)**2)\n",
    "    \n",
    "    # Initialisierung der Zustandsmatrix\n",
    "    U_glatt = np.zeros((Nt+1, Nx))\n",
    "    U_glatt[0] = Uo_glatt\n",
    "    \n",
    "    # Unstetige Anfangsbedingung\n",
    "    Uo_unstetig = np.where(np.logical_and(x>=1, x<=3), 1, 0)\n",
    "    \n",
    "    # Initialisierung der Zustandsmatrix\n",
    "    U_unstetig = np.zeros((Nt+1, Nx))\n",
    "    U_unstetig[0] = Uo_unstetig\n",
    "    \n",
    "    if verbose:\n",
    "        return U_glatt, U_unstetig, c_positiv, c_negativ, Nt, Nx, x, dt #Upwind-Verfahren\n",
    "    else:\n",
    "        return U_glatt, U_unstetig, c, Nt, Nx,x,dt #Lax-Friedrich / Lax-Wendroff-Verfahren / Analytische Lösung (verbose=False)\n",
    "    \n",
    "def upwind_verfahren(Nx, CFL=1):    \n",
    "    \n",
    "    U_glatt, U_unstetig, c_positiv, c_negativ, Nt, Nx, x, dt = Anfangsbedigungen(Nx,CFL)\n",
    "    \n",
    "    #Lösung des beschriebenen Problems\n",
    "    for n in range(Nt):\n",
    "        for i in range(1, Nx-1):\n",
    "            U_glatt[n+1, i] = U_glatt[n, i] - c_positiv*(U_glatt[n, i] - U_glatt[n, i-1]) + c_negativ*(U_glatt[n, i+1] - U_glatt[n, i])\n",
    "            U_unstetig[n+1, i] = U_unstetig[n, i] - c_positiv*(U_unstetig[n, i] - U_unstetig[n, i-1]) + c_negativ*(U_unstetig[n, i+1] - U_unstetig[n, i])\n",
    "        #Randbedingungen\n",
    "        U_glatt[n+1, 0] = 0\n",
    "        U_glatt[n+1, Nx-1] = 0\n",
    "        U_unstetig[n+1, 0] = 0\n",
    "        U_unstetig[n+1, Nx-1] = 0\n",
    "            \n",
    "    return U_glatt, U_unstetig, x, dt\n",
    "# Frage: Es ist noch nicht ganz klar mit den Randbedingungen"
   ]
  },
  {
   "cell_type": "code",
   "execution_count": 20,
   "metadata": {},
   "outputs": [
    {
     "name": "stdout",
     "output_type": "stream",
     "text": [
      "100\n"
     ]
    }
   ],
   "source": [
    "N = 100 \n",
    "CFL = 0.9\n",
    "\n",
    "U_glatt, U_unstetig, x, dt = upwind_verfahren(N, CFL)\n",
    "print(len(x))"
   ]
  },
  {
   "cell_type": "code",
   "execution_count": 28,
   "metadata": {},
   "outputs": [
    {
     "name": "stdout",
     "output_type": "stream",
     "text": [
      "(56, 100)\n",
      "0.1\n"
     ]
    }
   ],
   "source": [
    "#Numerische Flussfunktion - Bestimmen (nur das momentan)\n",
    "def numFluss_LAX_FRIEDRICH(dx,dt,U):\n",
    "    \n",
    "    #rechtseitiger Fluss (F_j+1/2)\n",
    "    F_j12_r = np.zeros((len(U),len(U[0])))\n",
    "    #linker Fluss (F_j-1/2)\n",
    "    F_j12_l = np.zeros((len(U),len(U[0])))\n",
    "    \n",
    "    #Funktion F definieren (Matrix mit h und u) (siehe Skript 3 Implementierung)\n",
    "    #Matrix H bzw. H°, Matrix HU bzw. HU° definieren (siehe Skript 3 Implementierung)\n",
    "    \n",
    "    \n",
    "    for i in range(1,len(U[0])-1):\n",
    "        F_j12_r[:,i] = 0.5*(U[:,i] + U[:,i-1]) - 0.5*c*(U[:,i] - U[:,i-1])\n",
    "        F_j12_l[:,i] = 0.5*(U[:,i] + U[:,i+1]) - 0.5*c*(U[:,i+1] - U[:,i])\n",
    "    \n",
    "    #Andere Verfahren auch probieren, alle steht im Skript \n",
    "        \n",
    "    return F_j12_r, F_j12_l\n",
    "    \n",
    "\n",
    "F = numFluss_LAX_FRIEDRICH(x,dt,U_glatt) #dx muss noch außerhalb der Funktion Anfangsbedingungen bestimmt werden\n",
    "print(F.shape)\n",
    "print(max(x)/len(x)) #-----------> dx\n",
    "\n",
    "#Zeitschrittweite durch CFL Bedingung für Systeme bestimmen (Lax-Friedrich)\n",
    "## Jacobimatrix von F bestimmen \n",
    "## Eigenwerte der Jacobimatrix bestimmen\n",
    "## dt = CFL*dx/max(Eigenwerte)\n",
    "\n",
    "#Frage: kann man Dokumente in Jupyter Notebook verbinden?, damit der Code nicht so lang wird\n",
    "#Muss man die komponenten in einzelnen Richtungen betrachten? ansonsten funktioniert nicht mit der Vektoriellen Form von h und hu. Skript Seite 34 Gleichung 3.2\n",
    "#Wie beeinfleusst die Anfangsbedingung die Lösung? (siehe Skript Seite 34)\n",
    "\n"
   ]
  }
 ],
 "metadata": {
  "kernelspec": {
   "display_name": "base",
   "language": "python",
   "name": "python3"
  },
  "language_info": {
   "codemirror_mode": {
    "name": "ipython",
    "version": 3
   },
   "file_extension": ".py",
   "mimetype": "text/x-python",
   "name": "python",
   "nbconvert_exporter": "python",
   "pygments_lexer": "ipython3",
   "version": "3.8.11"
  },
  "orig_nbformat": 4,
  "vscode": {
   "interpreter": {
    "hash": "4d2737aaab1f227d605e973e92dd7517b924c0423a88572cd91d229377dc309c"
   }
  }
 },
 "nbformat": 4,
 "nbformat_minor": 2
}
