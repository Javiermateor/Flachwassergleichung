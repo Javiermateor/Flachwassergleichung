{
 "cells": [
  {
   "cell_type": "code",
   "execution_count": 3,
   "metadata": {},
   "outputs": [],
   "source": [
    "import numpy as np\n",
    "import matplotlib.pyplot as plt\n",
    "import pandas as pd\n",
    "import scipy\n",
    "from scipy import optimize"
   ]
  },
  {
   "cell_type": "code",
   "execution_count": 1,
   "metadata": {},
   "outputs": [],
   "source": [
    "def Anfangsbedigungen(Nx,CFL,verbose=True):\n",
    "    xmax = 1 # Diesmal nur von null bis 1 (eigentlich nur 0 < x < 1)\n",
    "    xmin = 0\n",
    "    dx = (xmax-xmin)/Nx \n",
    "    x = np.linspace(xmin, xmax, Nx) \n",
    "    dt = CFL*dx                     # Zeitschrittweite\n",
    "    t_ende = 5                      # Endzeit\n",
    "    Nt = int(t_ende/dt)             # Anzahl der Zeitschritte\n",
    "    \n",
    "    #Upwind-Verfahren\n",
    "    c_positiv = 1*(dt/dx)\n",
    "    c_negativ = 0\n",
    "    \n",
    "    #Lax-Friedrich / Lax-Wendroff-Verfahren\n",
    "    c=dt/dx\n",
    "    \n",
    "    # Glatte Anfangsbedingung\n",
    "    Uo_glatt = np.exp(-2.5*(x-2)**2)\n",
    "    \n",
    "    # Initialisierung der Zustandsmatrix\n",
    "    U_glatt = np.zeros((Nt+1, Nx))\n",
    "    U_glatt[0] = Uo_glatt\n",
    "    \n",
    "    # Unstetige Anfangsbedingung\n",
    "    Uo_unstetig = np.where(np.logical_and(x>=1, x<=3), 1, 0)\n",
    "    \n",
    "    # Initialisierung der Zustandsmatrix\n",
    "    U_unstetig = np.zeros((Nt+1, Nx))\n",
    "    U_unstetig[0] = Uo_unstetig\n",
    "    \n",
    "    if verbose:\n",
    "        return U_glatt, U_unstetig, c_positiv, c_negativ, Nt, Nx, x, dt #Upwind-Verfahren\n",
    "    else:\n",
    "        return U_glatt, U_unstetig, c, Nt, Nx,x,dt #Lax-Friedrich / Lax-Wendroff-Verfahren / Analytische Lösung (verbose=False)\n",
    "    \n",
    "def upwind_verfahren(Nx, CFL=1):    \n",
    "    \n",
    "    U_glatt, U_unstetig, c_positiv, c_negativ, Nt, Nx, x, dt = Anfangsbedigungen(Nx,CFL)\n",
    "    \n",
    "    #Lösung des beschriebenen Problems\n",
    "    for n in range(Nt):\n",
    "        for i in range(1, Nx-1):\n",
    "            U_glatt[n+1, i] = U_glatt[n, i] - c_positiv*(U_glatt[n, i] - U_glatt[n, i-1]) + c_negativ*(U_glatt[n, i+1] - U_glatt[n, i])\n",
    "            U_unstetig[n+1, i] = U_unstetig[n, i] - c_positiv*(U_unstetig[n, i] - U_unstetig[n, i-1]) + c_negativ*(U_unstetig[n, i+1] - U_unstetig[n, i])\n",
    "        #Randbedingungen\n",
    "        U_glatt[n+1, 0] = 0\n",
    "        U_glatt[n+1, Nx-1] = 0\n",
    "        U_unstetig[n+1, 0] = 0\n",
    "        U_unstetig[n+1, Nx-1] = 0\n",
    "            \n",
    "    return U_glatt, U_unstetig, x, dt\n",
    "# Frage: Es ist noch nicht ganz klar mit den Randbedingungen"
   ]
  },
  {
   "cell_type": "code",
   "execution_count": 20,
   "metadata": {},
   "outputs": [
    {
     "name": "stdout",
     "output_type": "stream",
     "text": [
      "100\n"
     ]
    }
   ],
   "source": [
    "N = 100 \n",
    "CFL = 0.9\n",
    "\n",
    "U_glatt, U_unstetig, x, dt = upwind_verfahren(N, CFL)\n",
    "print(len(x))"
   ]
  },
  {
   "cell_type": "code",
   "execution_count": 28,
   "metadata": {},
   "outputs": [
    {
     "name": "stdout",
     "output_type": "stream",
     "text": [
      "(56, 100)\n",
      "0.1\n"
     ]
    }
   ],
   "source": [
    "#Numerische Flussfunktion - Bestimmen (nur das momentan)\n",
    "def numFluss_LAX_FRIEDRICH(dx,dt,U):\n",
    "    \n",
    "    #rechtseitiger Fluss (F_j+1/2)\n",
    "    F_j12_r = np.zeros((len(U),len(U[0])))\n",
    "    #linker Fluss (F_j-1/2)\n",
    "    F_j12_l = np.zeros((len(U),len(U[0])))\n",
    "    \n",
    "    #Funktion F definieren (Matrix mit h und u) (siehe Skript 3 Implementierung)\n",
    "    #Matrix H bzw. H°, Matrix HU bzw. HU° definieren (siehe Skript 3 Implementierung)\n",
    "    \n",
    "    \n",
    "    for i in range(1,len(U[0])-1):\n",
    "        F_j12_r[:,i] = 0.5*(U[:,i] + U[:,i-1]) - 0.5*c*(U[:,i] - U[:,i-1])\n",
    "        F_j12_l[:,i] = 0.5*(U[:,i] + U[:,i+1]) - 0.5*c*(U[:,i+1] - U[:,i])\n",
    "    \n",
    "    #Andere Verfahren auch probieren, alle steht im Skript \n",
    "        \n",
    "    return F_j12_r, F_j12_l\n",
    "    \n",
    "\n",
    "F = numFluss_LAX_FRIEDRICH(x,dt,U_glatt) #dx muss noch außerhalb der Funktion Anfangsbedingungen bestimmt werden\n",
    "print(F.shape)\n",
    "print(max(x)/len(x)) #-----------> dx\n",
    "\n",
    "#Zeitschrittweite durch CFL Bedingung für Systeme bestimmen (Lax-Friedrich)\n",
    "## Jacobimatrix von F bestimmen \n",
    "## Eigenwerte der Jacobimatrix bestimmen\n",
    "## dt = CFL*dx/max(Eigenwerte)\n",
    "\n",
    "#Frage: kann man Dokumente in Jupyter Notebook verbinden?, damit der Code nicht so lang wird\n",
    "#Muss man die komponenten in einzelnen Richtungen betrachten? ansonsten funktioniert nicht mit der Vektoriellen Form von h und hu. Skript Seite 34 Gleichung 3.2\n",
    "#Wie beeinfleusst die Anfangsbedingung die Lösung? (siehe Skript Seite 34)\n",
    "\n"
   ]
  },
  {
   "cell_type": "code",
   "execution_count": 171,
   "outputs": [],
   "source": [
    "def dammbruch(x,t,x0,hl,hr,Sw):\n",
    "    #Diskretisierung des Gebiets mit anfangsbedingungen\n",
    "    global u2\n",
    "    u2 = Sw - (g*hr)/(4*Sw)*(1+np.sqrt(1+(8*Sw**2)/(g*hr)))\n",
    "    global c2\n",
    "    c2 = np.sqrt((g*hr)/2*(np.sqrt(1+(8*Sw**2)/(g*hr))-1))\n",
    "\n",
    "    h = np.zeros((len(x), len(t)), dtype= float)\n",
    "    u = np.zeros((len(x), len(t)), dtype= float)\n",
    "\n",
    "    # Randbedingungen vielleicht noch sauberer 0.5 ist 1 und 0.5 gleichzeitig\n",
    "    h[:,0] = np.where(x>=0.5, 0.5, 1)\n",
    "\n",
    "    # Berechnung\n",
    "    for i in range(1, len(t)):\n",
    "        for j in range(len(x)):\n",
    "            h[j,i],u[j,i] = hu(x[j],t[i])\n",
    "    #print(hu(x[48],t[1]))\n",
    "    return h , u\n",
    "\n",
    "\n",
    "# Funktionen h und u definieren\n",
    "def hu(x,t):\n",
    "    xa = x0 - t*np.sqrt(g*hl)\n",
    "    xb = x0 + t*(u2-c2)\n",
    "    xc = x0 + Sw*t\n",
    "    #print(xa,xb,xc)\n",
    "    if x < xa:\n",
    "        h = hl\n",
    "        u = 0\n",
    "    elif xa <= x <= xb:\n",
    "        h = (1/(9*g)) * (2*np.sqrt(g*hl) - (2*x - 2*x0)/(2*t))**2\n",
    "        u = 2/(3*t) * (x-x0+t*(g*hl)**0.5)\n",
    "    elif xb < x <= xc:\n",
    "        h = hr/2 * (np.sqrt(1+((8*Sw**2)/(g*hr))) - 1)\n",
    "        u = u2\n",
    "    else:\n",
    "        h = hr\n",
    "        u = 0\n",
    "    return h , u"
   ],
   "metadata": {
    "collapsed": false
   }
  },
  {
   "cell_type": "code",
   "execution_count": 176,
   "outputs": [
    {
     "data": {
      "text/plain": "<Figure size 432x288 with 1 Axes>",
      "image/png": "[encoded data removed]"
     },
     "metadata": {
      "needs_background": "light"
     },
     "output_type": "display_data"
    }
   ],
   "source": [
    "# Initialiesierung der Werte:\n",
    "hl= 1\n",
    "hr = 0.5\n",
    "x0 = 0.5\n",
    "g= 9.81\n",
    "\n",
    "#temporär: (Ersetzen mit Anfangsbedingungen, dann müsste t in Anfangsbedingungen ergänzt werden)\n",
    "x = np.linspace(0, 1, 1000)\n",
    "t = np.linspace(0, 1, 100)\n",
    "\n",
    "\n",
    "\n",
    "# Sw bestimmen\n",
    "def f(Sw):\n",
    "    return Sw - (g*hr)/(4*Sw)*(1+np.sqrt(1+(8*Sw**2)/(g*hr))) + 2*np.sqrt((g*hr)/2*(np.sqrt(1+(8*Sw**2)/(g*hr))-1)) - 2*np.sqrt(g*hl)\n",
    "z = 1\n",
    "while True:\n",
    "    Sw = optimize.newton(f, z) # Validierung des positiven ergebnisses\n",
    "    z += 1\n",
    "    if Sw > 0:\n",
    "        break\n",
    "\n",
    "\n",
    "h,u = dammbruch(x,t,x0,hl,hr,Sw)\n",
    "#print(h[:,1])\n",
    "\n",
    "fig, ax = plt.subplots()\n",
    "for n in range(h.shape[1]):\n",
    "        ax.plot(x, h[:,n])\n",
    "ax.set_xlabel('x')\n",
    "ax.set_ylabel('U')\n",
    "ax.title.set_fontsize(13)\n",
    "ax.set_xlim(0,1)\n",
    "ax.set_ylim(0,1)\n",
    "plt.show()\n",
    "\n",
    "# Vielleicht Animation daraus machen?\n",
    "# Komisch, dass auf der \"rechten Seite\" es so eckig ist, aber in der h Funktion zwischen xb und xc ist weder x noch t in der Rechnung integriert, also muss es eine Konstante sein (0.75...)."
   ],
   "metadata": {
    "collapsed": false
   }
  },
  {
   "cell_type": "code",
   "execution_count": 42,
   "outputs": [
    {
     "name": "stdout",
     "output_type": "stream",
     "text": [
      "[1.  1.  1.  1.  1.  1.  1.  1.  1.  1.  1.  1.  1.  1.  1.  1.  1.  1.\n",
      " 1.  1.  1.  1.  1.  1.  1.  1.  1.  1.  1.  1.  1.  1.  1.  1.  1.  1.\n",
      " 1.  1.  1.  1.  1.  1.  1.  1.  1.  1.  1.  1.  1.  1.  0.5 0.5 0.5 0.5\n",
      " 0.5 0.5 0.5 0.5 0.5 0.5 0.5 0.5 0.5 0.5 0.5 0.5 0.5 0.5 0.5 0.5 0.5 0.5\n",
      " 0.5 0.5 0.5 0.5 0.5 0.5 0.5 0.5 0.5 0.5 0.5 0.5 0.5 0.5 0.5 0.5 0.5 0.5\n",
      " 0.5 0.5 0.5 0.5 0.5 0.5 0.5 0.5 0.5 0.5]\n",
      "dt = 0.0031927542840705044\n"
     ]
    },
    {
     "data": {
      "text/plain": "<Figure size 432x288 with 1 Axes>",
      "image/png": "[encoded data removed]"
     },
     "metadata": {
      "needs_background": "light"
     },
     "output_type": "display_data"
    }
   ],
   "source": [
    "# Initialisierung der Werte:\n",
    "hl= 1\n",
    "hr = 0.5\n",
    "x0 = 0.5\n",
    "g= 9.81\n",
    "CFL = 1 # Wie groß ist CFL?\n",
    "Nx = 100\n",
    "Nt = 50\n",
    "\n",
    "# temporär: (Ersetzen mit Anfangsbedingungen, dann müsste t in Anfangsbedingungen ergänzt werden)\n",
    "x = np.linspace(0, 1, Nx) # wird nur für anfangsbedingung verwendet, könnte umprogrammiert werden\n",
    "t = np.linspace(0, 1, Nt) #wird nicht gebraucht\n",
    "dx = 1/Nx\n",
    "\n",
    "# Anfangsbedingungen\n",
    "h = np.zeros((Nx, Nt), dtype= float)\n",
    "u = np.zeros((Nx, Nt), dtype= float)\n",
    "# Randbedingungen vielleicht noch sauberer 0.5 ist 1 und 0.5 gleichzeitig\n",
    "h[:,0] = np.where(x>=0.5, 0.5, 1)\n",
    "#print(h[:,0])\n",
    "\n",
    "# Zeitschritt bestimmen (Viele berechnungen die sich doppeln)\n",
    "EV = np.array([u[0,0]-np.sqrt(g*h[0,0]), u[0,0]-np.sqrt(g*h[0,0])])\n",
    "for i in range(1,Nx):\n",
    "    EV = np.append(EV,[u[i,0]-np.sqrt(g*h[i,0]), u[i,0]+np.sqrt(g*h[i,0])])\n",
    "dt = CFL * dx/(np.amax(EV))\n",
    "print(\"dt =\", dt)\n",
    "\n",
    "\n",
    "# Wände berechnen\n",
    "F_j12 = np.zeros((Nx-1,Nt),dtype= float)\n",
    "for k in range(0, Nt-1):\n",
    "    for j in range(0,Nx-1):\n",
    "        F_j12[j,k] = 0.5*dx/dt*(h[j,k] - h[j+1,k]) + 0.5*(h[j,k]*u[j,k] + h[j+1,k]*u[j+1,k])\n",
    "    #print(h[:,1])\n",
    "    #print(F_j12[:,k])\n",
    "    for l in range(1,Nx-1):\n",
    "        h[l,k+1] = h[l,k] - dt/dx*(F_j12[l,k] - F_j12[l-1,k])\n",
    "        # u erneuern?\n",
    "    # Randbedingungen reflektierend\n",
    "    u[0,k+1] = u[1,k+1]\n",
    "    u[Nx-1,k+1] = u[Nx-2,k+1]\n",
    "    h[0,k+1] = h[1,k+1]\n",
    "    h[Nx-1,k+1] = h[Nx-2,k+1]\n",
    "\n",
    "\n",
    "# h plotten\n",
    "fig, ax = plt.subplots()\n",
    "for n in range(h.shape[1]):\n",
    "        ax.plot(x, h[:,n])\n",
    "ax.set_xlabel('x')\n",
    "ax.set_ylabel('U')\n",
    "ax.title.set_fontsize(13)\n",
    "ax.set_xlim(0,1)\n",
    "ax.set_ylim(0,1)\n",
    "plt.show()\n",
    "\n",
    "# Bei verschiedenen Netzauflösungen Zeitpunkt T = 0.1\n",
    "\n"
   ],
   "metadata": {
    "collapsed": false
   }
  },
  {
   "cell_type": "code",
   "execution_count": null,
   "outputs": [],
   "source": [],
   "metadata": {
    "collapsed": false
   }
  }
 ],
 "metadata": {
  "kernelspec": {
   "display_name": "base",
   "language": "python",
   "name": "python3"
  },
  "language_info": {
   "codemirror_mode": {
    "name": "ipython",
    "version": 3
   },
   "file_extension": ".py",
   "mimetype": "text/x-python",
   "name": "python",
   "nbconvert_exporter": "python",
   "pygments_lexer": "ipython3",
   "version": "3.8.11"
  },
  "orig_nbformat": 4,
  "vscode": {
   "interpreter": {
    "hash": "4d2737aaab1f227d605e973e92dd7517b924c0423a88572cd91d229377dc309c"
   }
  }
 },
 "nbformat": 4,
 "nbformat_minor": 2
}
